{
  "nbformat": 4,
  "nbformat_minor": 0,
  "metadata": {
    "colab": {
      "name": "q5_DAN.ipynb",
      "provenance": [],
      "collapsed_sections": []
    },
    "kernelspec": {
      "name": "python3",
      "display_name": "Python 3"
    },
    "language_info": {
      "name": "python"
    },
    "widgets": {
      "application/vnd.jupyter.widget-state+json": {
        "f2ac2809950b438c9ae37e763a246826": {
          "model_module": "@jupyter-widgets/controls",
          "model_name": "HBoxModel",
          "model_module_version": "1.5.0",
          "state": {
            "_view_name": "HBoxView",
            "_dom_classes": [],
            "_model_name": "HBoxModel",
            "_view_module": "@jupyter-widgets/controls",
            "_model_module_version": "1.5.0",
            "_view_count": null,
            "_view_module_version": "1.5.0",
            "box_style": "",
            "layout": "IPY_MODEL_72b197e6f1ff41ca9d7b408caaccd10b",
            "_model_module": "@jupyter-widgets/controls",
            "children": [
              "IPY_MODEL_aed94f76f6284b81a9aa20df74f2174c",
              "IPY_MODEL_f1c75ff83fa143afa583c7a3b61c64e1",
              "IPY_MODEL_9f43f067df304c4586e8b2cf612c1719"
            ]
          }
        },
        "72b197e6f1ff41ca9d7b408caaccd10b": {
          "model_module": "@jupyter-widgets/base",
          "model_name": "LayoutModel",
          "model_module_version": "1.2.0",
          "state": {
            "_view_name": "LayoutView",
            "grid_template_rows": null,
            "right": null,
            "justify_content": null,
            "_view_module": "@jupyter-widgets/base",
            "overflow": null,
            "_model_module_version": "1.2.0",
            "_view_count": null,
            "flex_flow": null,
            "width": null,
            "min_width": null,
            "border": null,
            "align_items": null,
            "bottom": null,
            "_model_module": "@jupyter-widgets/base",
            "top": null,
            "grid_column": null,
            "overflow_y": null,
            "overflow_x": null,
            "grid_auto_flow": null,
            "grid_area": null,
            "grid_template_columns": null,
            "flex": null,
            "_model_name": "LayoutModel",
            "justify_items": null,
            "grid_row": null,
            "max_height": null,
            "align_content": null,
            "visibility": null,
            "align_self": null,
            "height": null,
            "min_height": null,
            "padding": null,
            "grid_auto_rows": null,
            "grid_gap": null,
            "max_width": null,
            "order": null,
            "_view_module_version": "1.2.0",
            "grid_template_areas": null,
            "object_position": null,
            "object_fit": null,
            "grid_auto_columns": null,
            "margin": null,
            "display": null,
            "left": null
          }
        },
        "aed94f76f6284b81a9aa20df74f2174c": {
          "model_module": "@jupyter-widgets/controls",
          "model_name": "HTMLModel",
          "model_module_version": "1.5.0",
          "state": {
            "_view_name": "HTMLView",
            "style": "IPY_MODEL_3615a06c698543e19847cb63497656e0",
            "_dom_classes": [],
            "description": "",
            "_model_name": "HTMLModel",
            "placeholder": "​",
            "_view_module": "@jupyter-widgets/controls",
            "_model_module_version": "1.5.0",
            "value": "100%",
            "_view_count": null,
            "_view_module_version": "1.5.0",
            "description_tooltip": null,
            "_model_module": "@jupyter-widgets/controls",
            "layout": "IPY_MODEL_6c3e846672fb4289b8e165b350eac449"
          }
        },
        "f1c75ff83fa143afa583c7a3b61c64e1": {
          "model_module": "@jupyter-widgets/controls",
          "model_name": "FloatProgressModel",
          "model_module_version": "1.5.0",
          "state": {
            "_view_name": "ProgressView",
            "style": "IPY_MODEL_78451bbbc8eb41c0bc380aee7129a710",
            "_dom_classes": [],
            "description": "",
            "_model_name": "FloatProgressModel",
            "bar_style": "success",
            "max": 3,
            "_view_module": "@jupyter-widgets/controls",
            "_model_module_version": "1.5.0",
            "value": 3,
            "_view_count": null,
            "_view_module_version": "1.5.0",
            "orientation": "horizontal",
            "min": 0,
            "description_tooltip": null,
            "_model_module": "@jupyter-widgets/controls",
            "layout": "IPY_MODEL_734d0fe5333c4f3bbc0450ed8211b609"
          }
        },
        "9f43f067df304c4586e8b2cf612c1719": {
          "model_module": "@jupyter-widgets/controls",
          "model_name": "HTMLModel",
          "model_module_version": "1.5.0",
          "state": {
            "_view_name": "HTMLView",
            "style": "IPY_MODEL_f544bb58581b45ca89d2204de562ae10",
            "_dom_classes": [],
            "description": "",
            "_model_name": "HTMLModel",
            "placeholder": "​",
            "_view_module": "@jupyter-widgets/controls",
            "_model_module_version": "1.5.0",
            "value": " 3/3 [00:00&lt;00:00, 39.65it/s]",
            "_view_count": null,
            "_view_module_version": "1.5.0",
            "description_tooltip": null,
            "_model_module": "@jupyter-widgets/controls",
            "layout": "IPY_MODEL_fb88516338eb42d19a3bba89de3f6484"
          }
        },
        "3615a06c698543e19847cb63497656e0": {
          "model_module": "@jupyter-widgets/controls",
          "model_name": "DescriptionStyleModel",
          "model_module_version": "1.5.0",
          "state": {
            "_view_name": "StyleView",
            "_model_name": "DescriptionStyleModel",
            "description_width": "",
            "_view_module": "@jupyter-widgets/base",
            "_model_module_version": "1.5.0",
            "_view_count": null,
            "_view_module_version": "1.2.0",
            "_model_module": "@jupyter-widgets/controls"
          }
        },
        "6c3e846672fb4289b8e165b350eac449": {
          "model_module": "@jupyter-widgets/base",
          "model_name": "LayoutModel",
          "model_module_version": "1.2.0",
          "state": {
            "_view_name": "LayoutView",
            "grid_template_rows": null,
            "right": null,
            "justify_content": null,
            "_view_module": "@jupyter-widgets/base",
            "overflow": null,
            "_model_module_version": "1.2.0",
            "_view_count": null,
            "flex_flow": null,
            "width": null,
            "min_width": null,
            "border": null,
            "align_items": null,
            "bottom": null,
            "_model_module": "@jupyter-widgets/base",
            "top": null,
            "grid_column": null,
            "overflow_y": null,
            "overflow_x": null,
            "grid_auto_flow": null,
            "grid_area": null,
            "grid_template_columns": null,
            "flex": null,
            "_model_name": "LayoutModel",
            "justify_items": null,
            "grid_row": null,
            "max_height": null,
            "align_content": null,
            "visibility": null,
            "align_self": null,
            "height": null,
            "min_height": null,
            "padding": null,
            "grid_auto_rows": null,
            "grid_gap": null,
            "max_width": null,
            "order": null,
            "_view_module_version": "1.2.0",
            "grid_template_areas": null,
            "object_position": null,
            "object_fit": null,
            "grid_auto_columns": null,
            "margin": null,
            "display": null,
            "left": null
          }
        },
        "78451bbbc8eb41c0bc380aee7129a710": {
          "model_module": "@jupyter-widgets/controls",
          "model_name": "ProgressStyleModel",
          "model_module_version": "1.5.0",
          "state": {
            "_view_name": "StyleView",
            "_model_name": "ProgressStyleModel",
            "description_width": "",
            "_view_module": "@jupyter-widgets/base",
            "_model_module_version": "1.5.0",
            "_view_count": null,
            "_view_module_version": "1.2.0",
            "bar_color": null,
            "_model_module": "@jupyter-widgets/controls"
          }
        },
        "734d0fe5333c4f3bbc0450ed8211b609": {
          "model_module": "@jupyter-widgets/base",
          "model_name": "LayoutModel",
          "model_module_version": "1.2.0",
          "state": {
            "_view_name": "LayoutView",
            "grid_template_rows": null,
            "right": null,
            "justify_content": null,
            "_view_module": "@jupyter-widgets/base",
            "overflow": null,
            "_model_module_version": "1.2.0",
            "_view_count": null,
            "flex_flow": null,
            "width": null,
            "min_width": null,
            "border": null,
            "align_items": null,
            "bottom": null,
            "_model_module": "@jupyter-widgets/base",
            "top": null,
            "grid_column": null,
            "overflow_y": null,
            "overflow_x": null,
            "grid_auto_flow": null,
            "grid_area": null,
            "grid_template_columns": null,
            "flex": null,
            "_model_name": "LayoutModel",
            "justify_items": null,
            "grid_row": null,
            "max_height": null,
            "align_content": null,
            "visibility": null,
            "align_self": null,
            "height": null,
            "min_height": null,
            "padding": null,
            "grid_auto_rows": null,
            "grid_gap": null,
            "max_width": null,
            "order": null,
            "_view_module_version": "1.2.0",
            "grid_template_areas": null,
            "object_position": null,
            "object_fit": null,
            "grid_auto_columns": null,
            "margin": null,
            "display": null,
            "left": null
          }
        },
        "f544bb58581b45ca89d2204de562ae10": {
          "model_module": "@jupyter-widgets/controls",
          "model_name": "DescriptionStyleModel",
          "model_module_version": "1.5.0",
          "state": {
            "_view_name": "StyleView",
            "_model_name": "DescriptionStyleModel",
            "description_width": "",
            "_view_module": "@jupyter-widgets/base",
            "_model_module_version": "1.5.0",
            "_view_count": null,
            "_view_module_version": "1.2.0",
            "_model_module": "@jupyter-widgets/controls"
          }
        },
        "fb88516338eb42d19a3bba89de3f6484": {
          "model_module": "@jupyter-widgets/base",
          "model_name": "LayoutModel",
          "model_module_version": "1.2.0",
          "state": {
            "_view_name": "LayoutView",
            "grid_template_rows": null,
            "right": null,
            "justify_content": null,
            "_view_module": "@jupyter-widgets/base",
            "overflow": null,
            "_model_module_version": "1.2.0",
            "_view_count": null,
            "flex_flow": null,
            "width": null,
            "min_width": null,
            "border": null,
            "align_items": null,
            "bottom": null,
            "_model_module": "@jupyter-widgets/base",
            "top": null,
            "grid_column": null,
            "overflow_y": null,
            "overflow_x": null,
            "grid_auto_flow": null,
            "grid_area": null,
            "grid_template_columns": null,
            "flex": null,
            "_model_name": "LayoutModel",
            "justify_items": null,
            "grid_row": null,
            "max_height": null,
            "align_content": null,
            "visibility": null,
            "align_self": null,
            "height": null,
            "min_height": null,
            "padding": null,
            "grid_auto_rows": null,
            "grid_gap": null,
            "max_width": null,
            "order": null,
            "_view_module_version": "1.2.0",
            "grid_template_areas": null,
            "object_position": null,
            "object_fit": null,
            "grid_auto_columns": null,
            "margin": null,
            "display": null,
            "left": null
          }
        }
      }
    },
    "accelerator": "GPU"
  },
  "cells": [
    {
      "cell_type": "markdown",
      "metadata": {
        "id": "vM85j1-ZX8RZ"
      },
      "source": [
        "To begin copy this notebook to your own drive:\n",
        "\n",
        "![image.png](data:image/png;base64,iVBORw0KGgoAAAANSUhEUgAAAJAAAAA0CAIAAADqqSYXAAAHL0lEQVR4Ae2b709SXxzH+1e+j3jmM5/5CCrxAhE5moMFYxNatDucYKvxo7BfsuVchaVN25xh3eniG40HsCyK5o8lspyOdLJwMrdCKdcuInB3vpOjJ74i7C5/dNzOecLnns/nfM77fF733B8b9wSo1Jb7FYKm4XUAFh9RAkMAhq0PawVNz74DANan+2mqtkYgENRS9LO5bNG/HGjXiop9IsOj8a2w6fa6Wus4mmN9vJ2qEdRoh7d8vNp0e10NHdoJzW4dFkd/D7UragX/CGpEBosWzlE613I/JTD4iqqWhw11AkFd+zRUY9lSE6BrRK5FmHXaWldb7AQAbC16Z1jZWnZE8PotVg0K2IrPLvqsTXU1AkFNXZPVtwjLBbJzz2jFVhFrRVpXCNbkt/LvIZdBVCvYHrMMpz3Ba3YShE0FCDBsUPATQoDxqxM2UQQYNij4CSHA+NUJmygCDBsU/IQQYPzqhE0UAYYNCn5CCDB+dcImigDDBgU/IScWSDtWFSA7jN+JjU0UAYYNCn5CCDB+dcImigDDBgU/IQQYvzphE/Ub2MLCAjaqiJCKFSDAKpYGTwcBhieXiqoIsIqlwdNBgOHJpaKqgwTm9Xr/LbZIJFJxQuLYXwUOBhjLsrFYrK+vT1dsRqORZdlKwtbX110ul1wuP3PmjNVqXVlZqRT5B/2BQODLly98BjIMIyw2iUTS1tY2Pz9fPoplWaVS+e3bt3LX3+o5GGAej8disbAsazQaITOPx7PnkjiOMxqNdrt9ZWXl58+fbrdbq9Xmcrk9g/+g02w2+3w+PgMZhmlraysUCul02uv1ymSyxcXtfyrC4RzHAQCi0Sg0+OQ8gpgDALa0tAQhBYoN2jqdbmlpqXwBU1NTMpkM7T+O4xobGz9//gwACIVCGo1GKpVevXoVntTJZFIikXR2dqqLLRwOAwCsVuuTJ09g5u7u7lu3bqFZ1Gr1qVOnKIrq6uoCAMTjcZqmKYoyGAxwChQJAGAY5sqVK6int7fXarUCAPx+v16vN5lMzc3NmUxGKBSura3dvXu3v78fBjMMY7PZAABfv36F+U0m0/Ly9h89UcJDMg4AWEdHB4TkcDgAABaLBR52dHSUi37+/Hlra2t5//z8PEVR09PT2Wy2r6/PYDBwHJdMJoVC4fv37wEAU1NTDQ0N6XQ6GAxeuHABZlCr1R8+fCjNhnbYxsaGUqlkGGZzc/Pjx49SqTSVSpVG7gIWjUZlMhkEJhaLP336lM1mEbDJyUmtVguH0zQ9Ojq6ubnZ1NQ0MjKSy+WGhoYuXbpUmvzw7P0Ci0QiaEvBZ41YLNax08o32dOnT69fv16+Hrfb7XK5YD/HcefOnYvFYhAYCr58+XIwGGRZtr6+Ph6PJxIJiqKy2e2/PcMwBCwcDqvVajTW4XC8ePECHZbvsEQiIRQKOY7z+/0tLS0wEgErFApnz55NJBI/fvygKCqTyUxMTKhUKhiWz+dPnz69urpamv+Q7P0CK91PqVTqy/9bObCRkRGz2Vy+GKfTOTg4iPovXrwYCoV2AbPb7bDoNpttYGBgaGjI6XSiIdBAwF69emWxWJD38ePH9+/fR4flwCKRCNph5cAAAJ2dnYODg36//8aNGwAAn88nEonqd9rJkyf3fGwpnfFA7P0C83q9cIelUikED+25QGD7IwqkNRqNyuXyjY0N2MNxnFqtnp2d7enpuXfvHupUKBQzMzO7gOn1+mAwCAB48+ZNc3MzTdNv375FmaGBgI2Pj2s0GuR1OBylJ0Q5sO7u7mvXrsFL4p7AotGoXq+3Wq2h0Na3GWNjYwaDAeU/MmO/wOCTocfjQeQQrdITvHQ9NE3fvn17dXX1169fvb29Wq02n8/H43GpVDozM5PL5QYGBjQaDbqHvX79OpfLjY6OisXidDoNAMhkMmKxuKGhIZPJlGYGANhstp6enlwuB+8xL1++zOfzk5OTFEUlk8nSYHQPS6fTw8PDFEXB94E9L4kAAI7jlEqlXC6HF+FMJnP+/Hmfz1coFBKJRFdX19E8TO4XGAAgEomwLPvgwYOdO9f2bywWKy0QstfW1pxOJ0VRcrnc4XCg97BwOKzT6SiKam1thQ9dcIc9fPhQoVCoVCr4lAjzOBwOu92OciJjbGxMJpPB22EikWhpaZFIJDqdbmJiAsVAo/Q9zGw2z87Owv5KwAAAbrf75s2bKE88HjeZTBKJRKVSwa2PXIdnHACwwxO365JYOtGdO3eOrEal8/51+/gBy+fzc3NzjY2N6GXurxfxKAUcP2AMw8jl8nfv3h1lmfCZC2tg+JQJHyUEGD4seCkhwHiVCZ+g38Dw0USUVKkAAValODi6CDAcqVTRRIBVKQ6OLgIMRypVNJHvw47V12ELC2SHVTmbcXQRYDhSqaKJAKtSHBxdBBiOVKpoIsCqFAdHFwGGI5UqmgiwKsXB0UWA4Uiliqb/AFB0Xp6BwyJDAAAAAElFTkSuQmCC)\n",
        "\n",
        "\n",
        "### Submission Instructions:\n",
        "1. **Restart the kernel** (in the menubar, select Runtime$\\rightarrow$Restart runtime)\n",
        "2. **Download the notebook** (in the menubar, select File$\\rightarrow$Download .ipynb)\n",
        "3. **Upload the downloaded notebook (.ipynb file) to your repository**.\n",
        "\n",
        "\n",
        "Make sure you fill in any place that says `YOUR CODE HERE`, and that no tests fail.  \n",
        "\n",
        "Note: To use a GPU, do the following: Runtime$\\rightarrow$Change runtime type$\\rightarrow$ GPU"
      ]
    },
    {
      "cell_type": "code",
      "metadata": {
        "colab": {
          "base_uri": "https://localhost:8080/"
        },
        "id": "BOtck6n09468",
        "outputId": "07982dc8-1037-4ed3-8ef9-74777b796140"
      },
      "source": [
        "import gdown\n",
        "import nltk\n",
        "# copied the files to personal google drive because failed to load them otherwise\n",
        "gdown.download('https://drive.google.com/uc?export=download&id=1LOnOcZsUxdEstuY0Ou_XhShFeyfvTJ8J', 'glove.npy', quiet=False)\n",
        "gdown.download('https://drive.google.com/uc?export=download&id=17RLcx6ChIfDzc4Xw39TyYPhEC-so1Iz5', 'vocab.json', quiet=False)\n",
        "\n",
        "nltk.download('punkt')"
      ],
      "execution_count": null,
      "outputs": [
        {
          "output_type": "stream",
          "name": "stderr",
          "text": [
            "Downloading...\n",
            "From: https://drive.google.com/uc?export=download&id=1LOnOcZsUxdEstuY0Ou_XhShFeyfvTJ8J\n",
            "To: /content/glove.npy\n",
            "\n",
            "  0%|          | 0.00/480M [00:00<?, ?B/s]\u001b[A\n",
            "  4%|▍         | 19.4M/480M [00:00<00:02, 192MB/s]\u001b[A\n",
            "  8%|▊         | 39.8M/480M [00:00<00:02, 199MB/s]\u001b[A\n",
            " 13%|█▎        | 60.3M/480M [00:00<00:02, 161MB/s]\u001b[A\n",
            " 16%|█▌        | 77.6M/480M [00:00<00:04, 93.8MB/s]\u001b[A\n",
            " 20%|██        | 97.5M/480M [00:00<00:03, 116MB/s] \u001b[A\n",
            " 23%|██▎       | 113M/480M [00:00<00:03, 120MB/s] \u001b[A\n",
            " 27%|██▋       | 127M/480M [00:01<00:02, 118MB/s]\u001b[A\n",
            " 30%|██▉       | 142M/480M [00:01<00:02, 125MB/s]\u001b[A\n",
            " 33%|███▎      | 156M/480M [00:01<00:02, 129MB/s]\u001b[A\n",
            " 35%|███▌      | 170M/480M [00:01<00:02, 131MB/s]\u001b[A\n",
            " 39%|███▉      | 186M/480M [00:01<00:02, 138MB/s]\u001b[A\n",
            " 43%|████▎     | 204M/480M [00:01<00:01, 151MB/s]\u001b[A\n",
            " 46%|████▋     | 223M/480M [00:01<00:01, 159MB/s]\u001b[A\n",
            " 51%|█████     | 243M/480M [00:01<00:01, 170MB/s]\u001b[A\n",
            " 54%|█████▍    | 261M/480M [00:01<00:01, 169MB/s]\u001b[A\n",
            " 58%|█████▊    | 278M/480M [00:02<00:01, 143MB/s]\u001b[A\n",
            " 61%|██████▏   | 294M/480M [00:02<00:01, 148MB/s]\u001b[A\n",
            " 65%|██████▍   | 311M/480M [00:02<00:01, 140MB/s]\u001b[A\n",
            " 69%|██████▊   | 329M/480M [00:02<00:01, 150MB/s]\u001b[A\n",
            " 73%|███████▎  | 349M/480M [00:02<00:00, 161MB/s]\u001b[A\n",
            " 77%|███████▋  | 368M/480M [00:02<00:00, 168MB/s]\u001b[A\n",
            " 80%|████████  | 385M/480M [00:02<00:00, 143MB/s]\u001b[A\n",
            " 84%|████████▍ | 402M/480M [00:02<00:00, 151MB/s]\u001b[A\n",
            " 87%|████████▋ | 418M/480M [00:02<00:00, 149MB/s]\u001b[A\n",
            " 91%|█████████ | 435M/480M [00:03<00:00, 154MB/s]\u001b[A\n",
            " 95%|█████████▍| 454M/480M [00:03<00:00, 163MB/s]\u001b[A\n",
            "100%|██████████| 480M/480M [00:03<00:00, 147MB/s]\n",
            "Downloading...\n",
            "From: https://drive.google.com/uc?export=download&id=17RLcx6ChIfDzc4Xw39TyYPhEC-so1Iz5\n",
            "To: /content/vocab.json\n",
            "\n",
            "100%|██████████| 7.69M/7.69M [00:00<00:00, 121MB/s]"
          ]
        },
        {
          "output_type": "stream",
          "name": "stdout",
          "text": [
            "[nltk_data] Downloading package punkt to /root/nltk_data...\n",
            "[nltk_data]   Package punkt is already up-to-date!\n"
          ]
        },
        {
          "output_type": "stream",
          "name": "stderr",
          "text": [
            "\n"
          ]
        },
        {
          "output_type": "execute_result",
          "data": {
            "text/plain": [
              "True"
            ]
          },
          "metadata": {},
          "execution_count": 14
        }
      ]
    },
    {
      "cell_type": "code",
      "metadata": {
        "colab": {
          "base_uri": "https://localhost:8080/"
        },
        "id": "WbkSh2AW-tpN",
        "outputId": "7c31e745-9803-4586-818f-c86dcf9d30ef"
      },
      "source": [
        "!pip install datasets\n",
        "!pip install transformers"
      ],
      "execution_count": null,
      "outputs": [
        {
          "output_type": "stream",
          "name": "stdout",
          "text": [
            "Requirement already satisfied: datasets in /usr/local/lib/python3.7/dist-packages (1.16.1)\n",
            "Requirement already satisfied: multiprocess in /usr/local/lib/python3.7/dist-packages (from datasets) (0.70.12.2)\n",
            "Requirement already satisfied: huggingface-hub<1.0.0,>=0.1.0 in /usr/local/lib/python3.7/dist-packages (from datasets) (0.1.2)\n",
            "Requirement already satisfied: numpy>=1.17 in /usr/local/lib/python3.7/dist-packages (from datasets) (1.19.5)\n",
            "Requirement already satisfied: xxhash in /usr/local/lib/python3.7/dist-packages (from datasets) (2.0.2)\n",
            "Requirement already satisfied: dill in /usr/local/lib/python3.7/dist-packages (from datasets) (0.3.4)\n",
            "Requirement already satisfied: pyarrow!=4.0.0,>=3.0.0 in /usr/local/lib/python3.7/dist-packages (from datasets) (3.0.0)\n",
            "Requirement already satisfied: tqdm>=4.62.1 in /usr/local/lib/python3.7/dist-packages (from datasets) (4.62.3)\n",
            "Requirement already satisfied: packaging in /usr/local/lib/python3.7/dist-packages (from datasets) (21.3)\n",
            "Requirement already satisfied: fsspec[http]>=2021.05.0 in /usr/local/lib/python3.7/dist-packages (from datasets) (2021.11.1)\n",
            "Requirement already satisfied: aiohttp in /usr/local/lib/python3.7/dist-packages (from datasets) (3.8.1)\n",
            "Requirement already satisfied: importlib-metadata in /usr/local/lib/python3.7/dist-packages (from datasets) (4.8.2)\n",
            "Requirement already satisfied: requests>=2.19.0 in /usr/local/lib/python3.7/dist-packages (from datasets) (2.23.0)\n",
            "Requirement already satisfied: pandas in /usr/local/lib/python3.7/dist-packages (from datasets) (1.1.5)\n",
            "Requirement already satisfied: filelock in /usr/local/lib/python3.7/dist-packages (from huggingface-hub<1.0.0,>=0.1.0->datasets) (3.4.0)\n",
            "Requirement already satisfied: typing-extensions>=3.7.4.3 in /usr/local/lib/python3.7/dist-packages (from huggingface-hub<1.0.0,>=0.1.0->datasets) (3.10.0.2)\n",
            "Requirement already satisfied: pyyaml in /usr/local/lib/python3.7/dist-packages (from huggingface-hub<1.0.0,>=0.1.0->datasets) (6.0)\n",
            "Requirement already satisfied: pyparsing!=3.0.5,>=2.0.2 in /usr/local/lib/python3.7/dist-packages (from packaging->datasets) (3.0.6)\n",
            "Requirement already satisfied: urllib3!=1.25.0,!=1.25.1,<1.26,>=1.21.1 in /usr/local/lib/python3.7/dist-packages (from requests>=2.19.0->datasets) (1.24.3)\n",
            "Requirement already satisfied: chardet<4,>=3.0.2 in /usr/local/lib/python3.7/dist-packages (from requests>=2.19.0->datasets) (3.0.4)\n",
            "Requirement already satisfied: idna<3,>=2.5 in /usr/local/lib/python3.7/dist-packages (from requests>=2.19.0->datasets) (2.10)\n",
            "Requirement already satisfied: certifi>=2017.4.17 in /usr/local/lib/python3.7/dist-packages (from requests>=2.19.0->datasets) (2021.10.8)\n",
            "Requirement already satisfied: yarl<2.0,>=1.0 in /usr/local/lib/python3.7/dist-packages (from aiohttp->datasets) (1.7.2)\n",
            "Requirement already satisfied: async-timeout<5.0,>=4.0.0a3 in /usr/local/lib/python3.7/dist-packages (from aiohttp->datasets) (4.0.1)\n",
            "Requirement already satisfied: asynctest==0.13.0 in /usr/local/lib/python3.7/dist-packages (from aiohttp->datasets) (0.13.0)\n",
            "Requirement already satisfied: frozenlist>=1.1.1 in /usr/local/lib/python3.7/dist-packages (from aiohttp->datasets) (1.2.0)\n",
            "Requirement already satisfied: charset-normalizer<3.0,>=2.0 in /usr/local/lib/python3.7/dist-packages (from aiohttp->datasets) (2.0.7)\n",
            "Requirement already satisfied: aiosignal>=1.1.2 in /usr/local/lib/python3.7/dist-packages (from aiohttp->datasets) (1.2.0)\n",
            "Requirement already satisfied: attrs>=17.3.0 in /usr/local/lib/python3.7/dist-packages (from aiohttp->datasets) (21.2.0)\n",
            "Requirement already satisfied: multidict<7.0,>=4.5 in /usr/local/lib/python3.7/dist-packages (from aiohttp->datasets) (5.2.0)\n",
            "Requirement already satisfied: zipp>=0.5 in /usr/local/lib/python3.7/dist-packages (from importlib-metadata->datasets) (3.6.0)\n",
            "Requirement already satisfied: pytz>=2017.2 in /usr/local/lib/python3.7/dist-packages (from pandas->datasets) (2018.9)\n",
            "Requirement already satisfied: python-dateutil>=2.7.3 in /usr/local/lib/python3.7/dist-packages (from pandas->datasets) (2.8.2)\n",
            "Requirement already satisfied: six>=1.5 in /usr/local/lib/python3.7/dist-packages (from python-dateutil>=2.7.3->pandas->datasets) (1.15.0)\n",
            "Requirement already satisfied: transformers in /usr/local/lib/python3.7/dist-packages (4.12.5)\n",
            "Requirement already satisfied: requests in /usr/local/lib/python3.7/dist-packages (from transformers) (2.23.0)\n",
            "Requirement already satisfied: tokenizers<0.11,>=0.10.1 in /usr/local/lib/python3.7/dist-packages (from transformers) (0.10.3)\n",
            "Requirement already satisfied: huggingface-hub<1.0,>=0.1.0 in /usr/local/lib/python3.7/dist-packages (from transformers) (0.1.2)\n",
            "Requirement already satisfied: packaging>=20.0 in /usr/local/lib/python3.7/dist-packages (from transformers) (21.3)\n",
            "Requirement already satisfied: tqdm>=4.27 in /usr/local/lib/python3.7/dist-packages (from transformers) (4.62.3)\n",
            "Requirement already satisfied: importlib-metadata in /usr/local/lib/python3.7/dist-packages (from transformers) (4.8.2)\n",
            "Requirement already satisfied: filelock in /usr/local/lib/python3.7/dist-packages (from transformers) (3.4.0)\n",
            "Requirement already satisfied: sacremoses in /usr/local/lib/python3.7/dist-packages (from transformers) (0.0.46)\n",
            "Requirement already satisfied: pyyaml>=5.1 in /usr/local/lib/python3.7/dist-packages (from transformers) (6.0)\n",
            "Requirement already satisfied: regex!=2019.12.17 in /usr/local/lib/python3.7/dist-packages (from transformers) (2019.12.20)\n",
            "Requirement already satisfied: numpy>=1.17 in /usr/local/lib/python3.7/dist-packages (from transformers) (1.19.5)\n",
            "Requirement already satisfied: typing-extensions>=3.7.4.3 in /usr/local/lib/python3.7/dist-packages (from huggingface-hub<1.0,>=0.1.0->transformers) (3.10.0.2)\n",
            "Requirement already satisfied: pyparsing!=3.0.5,>=2.0.2 in /usr/local/lib/python3.7/dist-packages (from packaging>=20.0->transformers) (3.0.6)\n",
            "Requirement already satisfied: zipp>=0.5 in /usr/local/lib/python3.7/dist-packages (from importlib-metadata->transformers) (3.6.0)\n",
            "Requirement already satisfied: certifi>=2017.4.17 in /usr/local/lib/python3.7/dist-packages (from requests->transformers) (2021.10.8)\n",
            "Requirement already satisfied: idna<3,>=2.5 in /usr/local/lib/python3.7/dist-packages (from requests->transformers) (2.10)\n",
            "Requirement already satisfied: chardet<4,>=3.0.2 in /usr/local/lib/python3.7/dist-packages (from requests->transformers) (3.0.4)\n",
            "Requirement already satisfied: urllib3!=1.25.0,!=1.25.1,<1.26,>=1.21.1 in /usr/local/lib/python3.7/dist-packages (from requests->transformers) (1.24.3)\n",
            "Requirement already satisfied: six in /usr/local/lib/python3.7/dist-packages (from sacremoses->transformers) (1.15.0)\n",
            "Requirement already satisfied: joblib in /usr/local/lib/python3.7/dist-packages (from sacremoses->transformers) (1.1.0)\n",
            "Requirement already satisfied: click in /usr/local/lib/python3.7/dist-packages (from sacremoses->transformers) (7.1.2)\n"
          ]
        }
      ]
    },
    {
      "cell_type": "code",
      "metadata": {
        "colab": {
          "base_uri": "https://localhost:8080/",
          "height": 66,
          "referenced_widgets": [
            "f2ac2809950b438c9ae37e763a246826",
            "72b197e6f1ff41ca9d7b408caaccd10b",
            "aed94f76f6284b81a9aa20df74f2174c",
            "f1c75ff83fa143afa583c7a3b61c64e1",
            "9f43f067df304c4586e8b2cf612c1719",
            "3615a06c698543e19847cb63497656e0",
            "6c3e846672fb4289b8e165b350eac449",
            "78451bbbc8eb41c0bc380aee7129a710",
            "734d0fe5333c4f3bbc0450ed8211b609",
            "f544bb58581b45ca89d2204de562ae10",
            "fb88516338eb42d19a3bba89de3f6484"
          ]
        },
        "id": "Wdk6SawN-Ahb",
        "outputId": "5fde36f3-90c5-4b34-e449-326f2cb47217"
      },
      "source": [
        "import numpy as np\n",
        "from datasets import load_dataset\n",
        "\n",
        "\n",
        "raw_datasets = load_dataset(\"imdb\")\n"
      ],
      "execution_count": null,
      "outputs": [
        {
          "output_type": "stream",
          "name": "stderr",
          "text": [
            "Reusing dataset imdb (/root/.cache/huggingface/datasets/imdb/plain_text/1.0.0/2fdd8b9bcadd6e7055e742a706876ba43f19faee861df134affd7a3f60fc38a1)\n"
          ]
        },
        {
          "output_type": "display_data",
          "data": {
            "application/vnd.jupyter.widget-view+json": {
              "model_id": "f2ac2809950b438c9ae37e763a246826",
              "version_minor": 0,
              "version_major": 2
            },
            "text/plain": [
              "  0%|          | 0/3 [00:00<?, ?it/s]"
            ]
          },
          "metadata": {}
        }
      ]
    },
    {
      "cell_type": "code",
      "metadata": {
        "id": "Pnx3G7V8-PiR"
      },
      "source": [
        "\n",
        "from nltk.tokenize import word_tokenize\n",
        "import json\n",
        "\n",
        "with open(\"vocab.json\") as f:\n",
        "  vocab = json.load(f)\n",
        "\n",
        "def tokenize_function(example):\n",
        "  sentences = [x.lower() for x in example['text']]\n",
        "  tokenized_sentences = [word_tokenize(x) for x in sentences]\n",
        "  tokenized_idx = [[vocab[word] if word in vocab else vocab[\"unk\"] for word in x] for x in tokenized_sentences]\n",
        "  max_size = max([len(x) for x in tokenized_idx])\n",
        "  final_tokenized_idx = tokenized_idx\n",
        "\n",
        "  return {\"labels\":example['label'],'input_ids':final_tokenized_idx}"
      ],
      "execution_count": null,
      "outputs": []
    },
    {
      "cell_type": "code",
      "metadata": {
        "id": "wB21r_h3A7yB",
        "colab": {
          "base_uri": "https://localhost:8080/"
        },
        "outputId": "f08d30cb-1217-4c94-b53b-773eb7d3de6e"
      },
      "source": [
        "small_train_dataset = raw_datasets['train'].shuffle(seed=42).map(tokenize_function,batched=True)\n",
        "small_eval_dataset = raw_datasets['test'].shuffle(seed=42).map(tokenize_function,batched=True)"
      ],
      "execution_count": null,
      "outputs": [
        {
          "output_type": "stream",
          "name": "stderr",
          "text": [
            "Loading cached shuffled indices for dataset at /root/.cache/huggingface/datasets/imdb/plain_text/1.0.0/2fdd8b9bcadd6e7055e742a706876ba43f19faee861df134affd7a3f60fc38a1/cache-f700cd6f222bd13f.arrow\n",
            "Loading cached processed dataset at /root/.cache/huggingface/datasets/imdb/plain_text/1.0.0/2fdd8b9bcadd6e7055e742a706876ba43f19faee861df134affd7a3f60fc38a1/cache-1deaf0e4869059b7.arrow\n",
            "Loading cached shuffled indices for dataset at /root/.cache/huggingface/datasets/imdb/plain_text/1.0.0/2fdd8b9bcadd6e7055e742a706876ba43f19faee861df134affd7a3f60fc38a1/cache-b23cfeb68a931a8d.arrow\n",
            "Loading cached processed dataset at /root/.cache/huggingface/datasets/imdb/plain_text/1.0.0/2fdd8b9bcadd6e7055e742a706876ba43f19faee861df134affd7a3f60fc38a1/cache-65e05467bd5c4904.arrow\n"
          ]
        }
      ]
    },
    {
      "cell_type": "code",
      "metadata": {
        "id": "mI0aXI_ip2v1"
      },
      "source": [
        "def pad_sequence_to_length(\n",
        "    sequence,\n",
        "    desired_length: int,\n",
        "    default_value = lambda: 0,\n",
        "    padding_on_right: bool = True,\n",
        "):\n",
        "    sequence = list(sequence)\n",
        "    # Truncates the sequence to the desired length.\n",
        "    if padding_on_right:\n",
        "        padded_sequence = sequence[:desired_length]\n",
        "    else:\n",
        "        padded_sequence = sequence[-desired_length:]\n",
        "    # Continues to pad with default_value() until we reach the desired length.\n",
        "    pad_length = desired_length - len(padded_sequence)\n",
        "    # This just creates the default value once, so if it's a list, and if it gets mutated\n",
        "    # later, it could cause subtle bugs. But the risk there is low, and this is much faster.\n",
        "    values_to_pad = [default_value()] * pad_length\n",
        "    if padding_on_right:\n",
        "        padded_sequence = padded_sequence + values_to_pad\n",
        "    else:\n",
        "        padded_sequence = values_to_pad + padded_sequence\n",
        "    return padded_sequence"
      ],
      "execution_count": null,
      "outputs": []
    },
    {
      "cell_type": "code",
      "metadata": {
        "id": "7xGIcwomAG3e"
      },
      "source": [
        "from datasets import load_metric\n",
        "\n",
        "metric = load_metric(\"accuracy\")\n",
        "\n",
        "def compute_metrics(eval_pred):\n",
        "    logits = eval_pred.predictions\n",
        "    labels = eval_pred.label_ids\n",
        "    predictions = np.argmax(logits, axis=-1)\n",
        "    return metric.compute(predictions=predictions, references=labels)"
      ],
      "execution_count": null,
      "outputs": []
    },
    {
      "cell_type": "code",
      "metadata": {
        "id": "YnOoHih5WzQf"
      },
      "source": [
        "from dataclasses import dataclass\n",
        "\n",
        "@dataclass\n",
        "class DataCollatorWithPadding:\n",
        "  \n",
        "  def __call__(self, features):\n",
        "    features_dict={}\n",
        "    if \"labels\" in features[0]:\n",
        "        \n",
        "      features_dict[\"labels\"] = torch.tensor([x.pop(\"labels\") for x in features]).long()\n",
        "\n",
        "    input_ids = [x.pop(\"input_ids\") for x in features]\n",
        "    max_len = max(len(x) for x in input_ids)\n",
        "    masks = [[1]*len(x) for x in input_ids]\n",
        "    \n",
        "    features_dict[\"input_ids\"] = torch.tensor([pad_sequence_to_length(x,max_len) for x in input_ids]).long()\n",
        "    features_dict[\"attention_masks\"] = torch.tensor([pad_sequence_to_length(x,max_len) for x in masks]).long()\n",
        "\n",
        "    return features_dict\n"
      ],
      "execution_count": null,
      "outputs": []
    },
    {
      "cell_type": "code",
      "metadata": {
        "id": "lC1VDdd1DfSQ"
      },
      "source": [
        "from torch import nn\n",
        "import torch\n",
        "#Use nn.Sequential and nn.Linear for the network, and nn.CrossEntropyLoss for the loss.\n",
        "#Make sure that the final layer has output dimension of size 2.\n",
        "class DAN(nn.Module):\n",
        "  def __init__(self):\n",
        "          super().__init__()\n",
        "          self.num_labels = 2\n",
        "          self.embeddings = nn.Embedding.from_pretrained(torch.FloatTensor(np.load(\"glove.npy\")))\n",
        "          # YOUR CODE HERE\n",
        "          self.emb_dim = 300\n",
        "          self.hidden_dim = 300\n",
        "          self.drop = nn.Dropout(0.5)\n",
        "          self.nonLin = nn.LeakyReLU\n",
        "          self.classifier = nn.Sequential(\n",
        "              nn.Linear(self.emb_dim, self.hidden_dim),\n",
        "              self.nonLin(0.1),\n",
        "              nn.Linear(self.hidden_dim, self.hidden_dim),\n",
        "              self.nonLin(0.1),\n",
        "              nn.Linear(self.hidden_dim, self.hidden_dim),\n",
        "              self.nonLin(0.1),\n",
        "              nn.Linear(self.hidden_dim, self.num_labels),\n",
        "              nn.Softmax(dim=1)\n",
        "          )\n",
        "          self.loss = nn.CrossEntropyLoss()\n",
        "          # END YOUR END\n",
        "          \n",
        "\n",
        "\n",
        "  def forward(self,input_ids,attention_masks,labels=None,**kwargs):\n",
        "      # YOUR CODE HERE\n",
        "      input_ids_at = input_ids * attention_masks\n",
        "      embs = self.embeddings(input_ids_at)\n",
        "      # embs = self.drop(embs)\n",
        "      avg = torch.mean(embs, 1)\n",
        "      # END YOUR END\n",
        "      res = self.classifier(avg)\n",
        "      loss = self.loss(res,labels)\n",
        "      return {\"loss\":loss,\"logits\":res}\n",
        "\n"
      ],
      "execution_count": null,
      "outputs": []
    },
    {
      "cell_type": "code",
      "metadata": {
        "id": "yTle329KAw19"
      },
      "source": [
        "#Hint: You may want to look at https://huggingface.co/transformers/main_classes/callback.html\n",
        "from transformers import Trainer\n",
        "from transformers import TrainingArguments\n",
        "\n",
        "co = DataCollatorWithPadding()\n",
        "training_args = TrainingArguments(\"DAN\",\n",
        "                                  # YOUR CODE HERE\n",
        "                                  num_train_epochs=20, #must be at least 10.\n",
        "                                  per_device_train_batch_size=50,\n",
        "                                  per_device_eval_batch_size=50,\n",
        "                                  learning_rate= 0.0005,\n",
        "                                  # END YOUR END\n",
        "                                  \n",
        "                                  save_total_limit=2,\n",
        "                                  log_level=\"error\",\n",
        "                                  evaluation_strategy=\"epoch\")\n",
        "model = DAN()\n",
        "\n",
        "    \n",
        "\n",
        "trainer = Trainer(\n",
        "    model=model,\n",
        "    data_collator=co,\n",
        "    args=training_args,\n",
        "    callbacks = [\n",
        "                 # YOUR CODE HERE\n",
        "                  \n",
        "                 # END YOUR END\n",
        "    ],\n",
        "    train_dataset=small_train_dataset,\n",
        "    eval_dataset=small_eval_dataset,\n",
        "    compute_metrics=compute_metrics,\n",
        ")\n"
      ],
      "execution_count": null,
      "outputs": []
    },
    {
      "cell_type": "code",
      "metadata": {
        "id": "1HvPThWvCq1F",
        "colab": {
          "base_uri": "https://localhost:8080/"
        },
        "outputId": "2dd23754-fe20-4b2c-bee5-4904a36c5055"
      },
      "source": [
        "trainer.train()"
      ],
      "execution_count": null,
      "outputs": [
        {
          "output_type": "stream",
          "name": "stdout",
          "text": [
            "{'loss': 0.5658, 'learning_rate': 0.000475, 'epoch': 1.0}\n",
            "{'eval_loss': 0.49890953302383423, 'eval_accuracy': 0.80532, 'eval_runtime': 11.7784, 'eval_samples_per_second': 2122.535, 'eval_steps_per_second': 42.451, 'epoch': 1.0}\n",
            "{'loss': 0.501, 'learning_rate': 0.00045000000000000004, 'epoch': 2.0}\n",
            "{'eval_loss': 0.49239128828048706, 'eval_accuracy': 0.81092, 'eval_runtime': 11.7278, 'eval_samples_per_second': 2131.686, 'eval_steps_per_second': 42.634, 'epoch': 2.0}\n",
            "{'loss': 0.4916, 'learning_rate': 0.000425, 'epoch': 3.0}\n",
            "{'eval_loss': 0.5049583911895752, 'eval_accuracy': 0.79724, 'eval_runtime': 11.6917, 'eval_samples_per_second': 2138.266, 'eval_steps_per_second': 42.765, 'epoch': 3.0}\n",
            "{'loss': 0.4845, 'learning_rate': 0.0004, 'epoch': 4.0}\n",
            "{'eval_loss': 0.5338841080665588, 'eval_accuracy': 0.76816, 'eval_runtime': 11.378, 'eval_samples_per_second': 2197.215, 'eval_steps_per_second': 43.944, 'epoch': 4.0}\n",
            "{'loss': 0.4887, 'learning_rate': 0.000375, 'epoch': 5.0}\n",
            "{'eval_loss': 0.4819035232067108, 'eval_accuracy': 0.82228, 'eval_runtime': 11.1919, 'eval_samples_per_second': 2233.75, 'eval_steps_per_second': 44.675, 'epoch': 5.0}\n",
            "{'loss': 0.4755, 'learning_rate': 0.00035, 'epoch': 6.0}\n",
            "{'eval_loss': 0.48490387201309204, 'eval_accuracy': 0.81844, 'eval_runtime': 11.2331, 'eval_samples_per_second': 2225.573, 'eval_steps_per_second': 44.511, 'epoch': 6.0}\n",
            "{'loss': 0.476, 'learning_rate': 0.00032500000000000004, 'epoch': 7.0}\n",
            "{'eval_loss': 0.47475066781044006, 'eval_accuracy': 0.8302, 'eval_runtime': 11.1882, 'eval_samples_per_second': 2234.501, 'eval_steps_per_second': 44.69, 'epoch': 7.0}\n",
            "{'loss': 0.4765, 'learning_rate': 0.0003, 'epoch': 8.0}\n",
            "{'eval_loss': 0.47531864047050476, 'eval_accuracy': 0.82848, 'eval_runtime': 11.386, 'eval_samples_per_second': 2195.672, 'eval_steps_per_second': 43.913, 'epoch': 8.0}\n",
            "{'loss': 0.4731, 'learning_rate': 0.000275, 'epoch': 9.0}\n",
            "{'eval_loss': 0.4869653582572937, 'eval_accuracy': 0.81644, 'eval_runtime': 11.578, 'eval_samples_per_second': 2159.264, 'eval_steps_per_second': 43.185, 'epoch': 9.0}\n",
            "{'loss': 0.4688, 'learning_rate': 0.00025, 'epoch': 10.0}\n",
            "{'eval_loss': 0.4734691083431244, 'eval_accuracy': 0.83136, 'eval_runtime': 11.4305, 'eval_samples_per_second': 2187.14, 'eval_steps_per_second': 43.743, 'epoch': 10.0}\n",
            "{'loss': 0.4696, 'learning_rate': 0.00022500000000000002, 'epoch': 11.0}\n",
            "{'eval_loss': 0.47768139839172363, 'eval_accuracy': 0.82624, 'eval_runtime': 11.1233, 'eval_samples_per_second': 2247.528, 'eval_steps_per_second': 44.951, 'epoch': 11.0}\n",
            "{'loss': 0.4685, 'learning_rate': 0.0002, 'epoch': 12.0}\n",
            "{'eval_loss': 0.47377562522888184, 'eval_accuracy': 0.82924, 'eval_runtime': 11.2675, 'eval_samples_per_second': 2218.765, 'eval_steps_per_second': 44.375, 'epoch': 12.0}\n",
            "{'loss': 0.4666, 'learning_rate': 0.000175, 'epoch': 13.0}\n",
            "{'eval_loss': 0.47904491424560547, 'eval_accuracy': 0.82428, 'eval_runtime': 11.3333, 'eval_samples_per_second': 2205.894, 'eval_steps_per_second': 44.118, 'epoch': 13.0}\n",
            "{'loss': 0.4654, 'learning_rate': 0.00015, 'epoch': 14.0}\n",
            "{'eval_loss': 0.47206395864486694, 'eval_accuracy': 0.83172, 'eval_runtime': 11.4248, 'eval_samples_per_second': 2188.221, 'eval_steps_per_second': 43.764, 'epoch': 14.0}\n",
            "{'loss': 0.4645, 'learning_rate': 0.000125, 'epoch': 15.0}\n",
            "{'eval_loss': 0.47857844829559326, 'eval_accuracy': 0.82504, 'eval_runtime': 11.4423, 'eval_samples_per_second': 2184.878, 'eval_steps_per_second': 43.698, 'epoch': 15.0}\n",
            "{'loss': 0.4626, 'learning_rate': 0.0001, 'epoch': 16.0}\n",
            "{'eval_loss': 0.4720700681209564, 'eval_accuracy': 0.83292, 'eval_runtime': 11.6633, 'eval_samples_per_second': 2143.484, 'eval_steps_per_second': 42.87, 'epoch': 16.0}\n",
            "{'loss': 0.461, 'learning_rate': 7.5e-05, 'epoch': 17.0}\n",
            "{'eval_loss': 0.4733530879020691, 'eval_accuracy': 0.82988, 'eval_runtime': 11.5457, 'eval_samples_per_second': 2165.309, 'eval_steps_per_second': 43.306, 'epoch': 17.0}\n",
            "{'loss': 0.4599, 'learning_rate': 5e-05, 'epoch': 18.0}\n",
            "{'eval_loss': 0.4730859398841858, 'eval_accuracy': 0.83228, 'eval_runtime': 11.259, 'eval_samples_per_second': 2220.44, 'eval_steps_per_second': 44.409, 'epoch': 18.0}\n",
            "{'loss': 0.4591, 'learning_rate': 2.5e-05, 'epoch': 19.0}\n",
            "{'eval_loss': 0.4709645211696625, 'eval_accuracy': 0.8334, 'eval_runtime': 11.4041, 'eval_samples_per_second': 2192.2, 'eval_steps_per_second': 43.844, 'epoch': 19.0}\n",
            "{'loss': 0.4577, 'learning_rate': 0.0, 'epoch': 20.0}\n",
            "{'eval_loss': 0.4711006283760071, 'eval_accuracy': 0.8326, 'eval_runtime': 11.3247, 'eval_samples_per_second': 2207.555, 'eval_steps_per_second': 44.151, 'epoch': 20.0}\n",
            "{'train_runtime': 511.0633, 'train_samples_per_second': 978.352, 'train_steps_per_second': 19.567, 'train_loss': 0.4768187194824219, 'epoch': 20.0}\n"
          ]
        },
        {
          "output_type": "execute_result",
          "data": {
            "text/plain": [
              "TrainOutput(global_step=10000, training_loss=0.4768187194824219, metrics={'train_runtime': 511.0633, 'train_samples_per_second': 978.352, 'train_steps_per_second': 19.567, 'train_loss': 0.4768187194824219, 'epoch': 20.0})"
            ]
          },
          "metadata": {},
          "execution_count": 24
        }
      ]
    },
    {
      "cell_type": "code",
      "metadata": {
        "id": "odYigceMJgyE"
      },
      "source": [
        "x = range(1, 21)\n",
        "y = [trainer.state.log_history[i]['eval_accuracy'] for i in range(1, 41, 2)]"
      ],
      "execution_count": null,
      "outputs": []
    },
    {
      "cell_type": "code",
      "metadata": {
        "colab": {
          "base_uri": "https://localhost:8080/",
          "height": 279
        },
        "id": "HTOsg-pdAV1j",
        "outputId": "47cda06e-2616-4a25-fc32-4e4f7afef324"
      },
      "source": [
        "import matplotlib.pyplot as plt\n",
        "\n",
        "plt.plot(x,y)\n",
        "plt.xlabel(\"Epoch\")\n",
        "plt.ylabel(\"Eval Accuracy\")\n",
        "plt.show()"
      ],
      "execution_count": null,
      "outputs": [
        {
          "output_type": "display_data",
          "data": {
            "image/png": "[encoded data removed]",
            "text/plain": [
              "<Figure size 432x288 with 1 Axes>"
            ]
          },
          "metadata": {
            "needs_background": "light"
          }
        }
      ]
    },
    {
      "cell_type": "code",
      "metadata": {
        "id": "a-7BnfC55i4g"
      },
      "source": [
        "preds, labs, mats = trainer.predict(small_eval_dataset)"
      ],
      "execution_count": null,
      "outputs": []
    },
    {
      "cell_type": "code",
      "metadata": {
        "id": "6CIie9AQ55RV"
      },
      "source": [
        "preds = torch.tensor(preds)"
      ],
      "execution_count": null,
      "outputs": []
    },
    {
      "cell_type": "code",
      "metadata": {
        "id": "-v0yMfU56TEu"
      },
      "source": [
        "ex_inds = []\n",
        "counter = 0\n",
        "\n",
        "for i in range(len(labs)):\n",
        "  if (int(torch.argmax(preds[i])) != int(labs[i])):\n",
        "    ex_inds += [i]\n",
        "    counter += 1\n",
        "  if (counter == 5):\n",
        "    break"
      ],
      "execution_count": null,
      "outputs": []
    },
    {
      "cell_type": "code",
      "metadata": {
        "colab": {
          "base_uri": "https://localhost:8080/"
        },
        "id": "g463K18L9jGx",
        "outputId": "e473a8b8-2139-46f9-d4f8-3be4eb64a1ea"
      },
      "source": [
        "ex_inds"
      ],
      "execution_count": null,
      "outputs": [
        {
          "output_type": "execute_result",
          "data": {
            "text/plain": [
              "[1, 6, 27, 38, 46]"
            ]
          },
          "metadata": {},
          "execution_count": 30
        }
      ]
    },
    {
      "cell_type": "code",
      "metadata": {
        "colab": {
          "base_uri": "https://localhost:8080/"
        },
        "id": "iyztZCAT7avQ",
        "outputId": "0fd95249-1503-403d-d70f-4dbe5f05672d"
      },
      "source": [
        "for ind in ex_inds:\n",
        "  print(raw_datasets['test'][ind])"
      ],
      "execution_count": null,
      "outputs": [
        {
          "output_type": "stream",
          "name": "stdout",
          "text": [
            "{'text': \"Worth the entertainment value of a rental, especially if you like action movies. This one features the usual car chases, fights with the great Van Damme kick style, shooting battles with the 40 shell load shotgun, and even terrorist style bombs. All of this is entertaining and competently handled but there is nothing that really blows you away if you've seen your share before.<br /><br />The plot is made interesting by the inclusion of a rabbit, which is clever but hardly profound. Many of the characters are heavily stereotyped -- the angry veterans, the terrified illegal aliens, the crooked cops, the indifferent feds, the bitchy tough lady station head, the crooked politician, the fat federale who looks like he was typecast as the Mexican in a Hollywood movie from the 1940s. All passably acted but again nothing special.<br /><br />I thought the main villains were pretty well done and fairly well acted. By the end of the movie you certainly knew who the good guys were and weren't. There was an emotional lift as the really bad ones got their just deserts. Very simplistic, but then you weren't expecting Hamlet, right? The only thing I found really annoying was the constant cuts to VDs daughter during the last fight scene.<br /><br />Not bad. Not good. Passable 4.\", 'label': 0}\n",
            "{'text': \"Isaac Florentine has made some of the best western Martial Arts action movies ever produced. In particular US Seals 2, Cold Harvest, Special Forces and Undisputed 2 are all action classics. You can tell Isaac has a real passion for the genre and his films are always eventful, creative and sharp affairs, with some of the best fight sequences an action fan could hope for. In particular he has found a muse with Scott Adkins, as talented an actor and action performer as you could hope for. This is borne out with Special Forces and Undisputed 2, but unfortunately The Shepherd just doesn't live up to their abilities.<br /><br />There is no doubt that JCVD looks better here fight-wise than he has done in years, especially in the fight he has (for pretty much no reason) in a prison cell, and in the final showdown with Scott, but look in his eyes. JCVD seems to be dead inside. There's nothing in his eyes at all. It's like he just doesn't care about anything throughout the whole film. And this is the leading man.<br /><br />There are other dodgy aspects to the film, script-wise and visually, but the main problem is that you are utterly unable to empathise with the hero of the film. A genuine shame as I know we all wanted this film to be as special as it genuinely could have been. There are some good bits, mostly the action scenes themselves. This film had a terrific director and action choreographer, and an awesome opponent for JCVD to face down. This could have been the one to bring the veteran action star back up to scratch in the balls-out action movie stakes.<br /><br />Sincerely a shame that this didn't happen.\", 'label': 0}\n",
            "{'text': \"I was looking forward to this movie. Trustworthy actors, interesting plot. Great atmosphere then ????? IF you are going to attempt something that is meant to encapsulate the meaning of life. First. Know it. OK I did not expect the directors or writers to actually know the meaning but I thought they may have offered crumbs to peck at and treats to add fuel to the fire-Which! they almost did. Things I didn't get. A woman wandering around in dark places and lonely car parks alone-oblivious to the consequences. Great riddles that fell by the wayside. The promise of the knowledge therein contained by the original so-called criminal. I had no problem with the budget and enjoyed the suspense. I understood and can wax lyrical about the fool and found Adrian Pauls role crucial and penetrating and then ????? Basically the story line and the script where good up to a point and that point was the last 10 minutes or so. What? Run out of ideas! Such a pity that this movie had to let us down so badly. It may not comprehend the meaning and I really did not expect the writers to understand it but I was hoping for an intellectual, if not spiritual ride and got a bump in the road\", 'label': 0}\n",
            "{'text': 'Artificial melodrama with a screenplay adapted by Mel Dinelli from his play \"The Man\" concerns a boarding-house proprietress taking in a troubled handyman who may be homicidal. Despite solid work from Ida Lupino and Robert Ryan (both trying their best), this tedious yarn isn\\'t very inventive within its one primary set (which quickly becomes visually dull) and underpopulated cast of characters (there is however a smart pooch who senses the worst!). Hokey and humorless, with a stilted direction from Harry Horner (perhaps Lupino should have directed?). Where\\'s all the suspense promised by the ads? Dinelli also served as a co-producer. *1/2 from ****', 'label': 0}\n",
            "{'text': 'Okay, so it was never going to change the world, and it bombed at the box office, but Honky Tonk Freeway is one of those films I fell in love with as a child (the BBC showed it a few times during the 1980s and I happened to have a high quality VHS tape in the machine - lucky, that!) and watched endlessly. I watched the DVD last night and sadly, time has not been kind to this would-be blockbuster. Either that or I\\'ve just grown out of this kind of broad, dopey humour. Come on, when Schlesinger is so desperate for laughs he gives us close-ups of novelty underpants with \\'amusing\\' slogans, what can you say about the cast or screenplay?<br /><br />Certainly, it\\'s ambitious, interesting, unusual and sprawling, but it\\'s never once laugh-out-loud funny. I\\'d describe it as a children\\'s film with some \\'adult\\' overtones - you can safely let your youngsters watch this, despite the 15 certificate. They won\\'t get the drug references, so don\\'t worry about it. I had a pleasant surprise when I realized I\\'d forgotten just how catchy both the title song and the song-writing truck driver\\'s \\'Everybody\\'s Going Faster, Faster\\' song were, not to mention the town of Ticlaw\\'s patriotic anthem. The whole cast give commendable performances, the photography is crisp and captures the mood of the various locations perfectly, and there\\'s a real time capsule feeling about the fashions, the cars, the gadgets (especially the dashboard-mounted drum machine), the interiors and the pop-culture references - I was more than a little surprised to hear the nutty bum in the bank loudly telling everyone \"I\\'m OJ Simpson!\", particularly now Simpson\\'s legal tangles have overshadowed his sporting achievements. The snag is, there\\'s almost no plot to speak of, it\\'s way too obvious to be witty and not funny enough to elicit many genuine laughs. I wish I\\'d left this one as a pleasant memory.', 'label': 0}\n"
          ]
        }
      ]
    },
    {
      "cell_type": "code",
      "metadata": {
        "id": "JD4l5oTw9VsV"
      },
      "source": [
        ""
      ],
      "execution_count": null,
      "outputs": []
    }
  ]
}
